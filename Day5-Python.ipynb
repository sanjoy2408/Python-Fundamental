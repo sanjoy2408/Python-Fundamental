{
 "cells": [
  {
   "cell_type": "code",
   "execution_count": 3,
   "id": "f64fef1a-a084-4390-8cd5-491a86628882",
   "metadata": {},
   "outputs": [
    {
     "name": "stdout",
     "output_type": "stream",
     "text": [
      "['bmw', 'tata', 'maruti', 'audi', 'toyota', 'benz']\n"
     ]
    }
   ],
   "source": [
    "cars = ['bmw','tata','maruti','audi','toyota','benz']\n",
    "\n",
    "print(cars)"
   ]
  },
  {
   "cell_type": "code",
   "execution_count": 4,
   "id": "e224c7e5-74c5-4db0-b5ae-72cc098086c6",
   "metadata": {},
   "outputs": [
    {
     "data": {
      "text/plain": [
       "list"
      ]
     },
     "execution_count": 4,
     "metadata": {},
     "output_type": "execute_result"
    }
   ],
   "source": [
    "type(cars)"
   ]
  },
  {
   "cell_type": "code",
   "execution_count": 6,
   "id": "4b0dde02-9863-4f32-83a2-71d89ff3a21e",
   "metadata": {},
   "outputs": [],
   "source": [
    "# arrange the cars list in alphabatical order"
   ]
  },
  {
   "cell_type": "code",
   "execution_count": 7,
   "id": "19643706-f2e6-49ee-8991-4e6a5ba07578",
   "metadata": {},
   "outputs": [
    {
     "name": "stdout",
     "output_type": "stream",
     "text": [
      "['audi', 'benz', 'bmw', 'maruti', 'tata', 'toyota']\n"
     ]
    }
   ],
   "source": [
    "print(sorted(cars))"
   ]
  },
  {
   "cell_type": "code",
   "execution_count": 8,
   "id": "92072a0f-64a2-42a6-8b7f-47f06d35c7e8",
   "metadata": {},
   "outputs": [
    {
     "name": "stdout",
     "output_type": "stream",
     "text": [
      "['bmw', 'tata', 'maruti', 'audi', 'toyota', 'benz']\n"
     ]
    }
   ],
   "source": [
    "print(cars)  #original order"
   ]
  },
  {
   "cell_type": "code",
   "execution_count": 9,
   "id": "e9636cf8-a7bc-413c-8886-efae295cea29",
   "metadata": {},
   "outputs": [],
   "source": [
    "cars.sort()"
   ]
  },
  {
   "cell_type": "code",
   "execution_count": 10,
   "id": "aa775b00-b095-4156-b37e-e4d0e16c51cc",
   "metadata": {},
   "outputs": [
    {
     "name": "stdout",
     "output_type": "stream",
     "text": [
      "['audi', 'benz', 'bmw', 'maruti', 'tata', 'toyota']\n"
     ]
    }
   ],
   "source": [
    "print(cars)"
   ]
  },
  {
   "cell_type": "code",
   "execution_count": 11,
   "id": "e31c10c2-4fe4-4085-9b6b-2781becc9c62",
   "metadata": {},
   "outputs": [
    {
     "name": "stdout",
     "output_type": "stream",
     "text": [
      "['audi', 'benz', 'bmw', 'maruti', 'tata', 'toyota']\n"
     ]
    }
   ],
   "source": [
    "print(cars)"
   ]
  },
  {
   "cell_type": "code",
   "execution_count": null,
   "id": "93d02c36-b9db-411d-a53c-6d8654f9cd41",
   "metadata": {},
   "outputs": [],
   "source": [
    "# arrange the cars list in (A-Z, Z-A) reverse order"
   ]
  },
  {
   "cell_type": "code",
   "execution_count": 12,
   "id": "53a50588-1a4d-4f24-9a0b-7f85c1869c18",
   "metadata": {},
   "outputs": [],
   "source": [
    "cars.reverse()"
   ]
  },
  {
   "cell_type": "code",
   "execution_count": 13,
   "id": "e71a626a-e1ed-4120-8e05-c4d75127b06f",
   "metadata": {},
   "outputs": [
    {
     "name": "stdout",
     "output_type": "stream",
     "text": [
      "['toyota', 'tata', 'maruti', 'bmw', 'benz', 'audi']\n"
     ]
    }
   ],
   "source": [
    "print(cars)"
   ]
  },
  {
   "cell_type": "code",
   "execution_count": 14,
   "id": "ac92b846-98fd-48d0-a9f3-ee3b5fb470e6",
   "metadata": {},
   "outputs": [],
   "source": [
    "students = ['ankita','arpita','bhusan','bhanu','chandra']"
   ]
  },
  {
   "cell_type": "code",
   "execution_count": 15,
   "id": "6a00628f-6a47-47d7-bde3-c773fbe8a444",
   "metadata": {},
   "outputs": [
    {
     "name": "stdout",
     "output_type": "stream",
     "text": [
      "['ankita', 'arpita', 'bhusan', 'bhanu', 'chandra']\n"
     ]
    }
   ],
   "source": [
    "print(students)"
   ]
  },
  {
   "cell_type": "code",
   "execution_count": 17,
   "id": "6ea95437-ab19-4a10-851e-e907e6d0b105",
   "metadata": {},
   "outputs": [
    {
     "name": "stdout",
     "output_type": "stream",
     "text": [
      "['ankita']\n"
     ]
    }
   ],
   "source": [
    "print(students[0:1])"
   ]
  },
  {
   "cell_type": "code",
   "execution_count": 18,
   "id": "1e80566c-206a-4d56-a5d3-265a0ab59834",
   "metadata": {},
   "outputs": [
    {
     "name": "stdout",
     "output_type": "stream",
     "text": [
      "['ankita', 'arpita']\n"
     ]
    }
   ],
   "source": [
    "print(students[0:2])"
   ]
  },
  {
   "cell_type": "code",
   "execution_count": 20,
   "id": "52ae4312-67c9-4c2d-a28f-2dbb8fa16aae",
   "metadata": {},
   "outputs": [
    {
     "name": "stdout",
     "output_type": "stream",
     "text": [
      "['bhusan', 'bhanu']\n"
     ]
    }
   ],
   "source": [
    "print(students[2:4])"
   ]
  },
  {
   "cell_type": "code",
   "execution_count": 24,
   "id": "d8dee772-c034-455a-8d56-4de612e87675",
   "metadata": {},
   "outputs": [
    {
     "name": "stdout",
     "output_type": "stream",
     "text": [
      "['ankita', 'arpita', 'bhusan', 'bhanu', 'chandra']\n"
     ]
    }
   ],
   "source": [
    "print(students)"
   ]
  },
  {
   "cell_type": "code",
   "execution_count": 26,
   "id": "03cae34f-2fff-4375-b104-f99929ceefac",
   "metadata": {},
   "outputs": [
    {
     "name": "stdout",
     "output_type": "stream",
     "text": [
      "['ankita', 'arpita', 'bhanu', 'bhusan', 'chandra']\n"
     ]
    }
   ],
   "source": [
    "print(sorted(students))"
   ]
  },
  {
   "cell_type": "code",
   "execution_count": null,
   "id": "b5695459-7a76-44a9-9471-d907ae0c85e1",
   "metadata": {},
   "outputs": [],
   "source": []
  }
 ],
 "metadata": {
  "kernelspec": {
   "display_name": "Python 3 (ipykernel)",
   "language": "python",
   "name": "python3"
  },
  "language_info": {
   "codemirror_mode": {
    "name": "ipython",
    "version": 3
   },
   "file_extension": ".py",
   "mimetype": "text/x-python",
   "name": "python",
   "nbconvert_exporter": "python",
   "pygments_lexer": "ipython3",
   "version": "3.13.5"
  }
 },
 "nbformat": 4,
 "nbformat_minor": 5
}
