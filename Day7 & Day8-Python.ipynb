{
 "cells": [
  {
   "cell_type": "code",
   "execution_count": 1,
   "id": "e4b50db8-a2ff-4cf0-9239-740a52114559",
   "metadata": {},
   "outputs": [
    {
     "name": "stdout",
     "output_type": "stream",
     "text": [
      "['akshay', 'bhavana', 'chandu', 'dinesh', 'eshan']\n"
     ]
    }
   ],
   "source": [
    "students = ['akshay','bhavana','chandu','dinesh','eshan']\n",
    "print(students)"
   ]
  },
  {
   "cell_type": "code",
   "execution_count": 2,
   "id": "f9d8549c-9cf0-414f-a2b0-206e9f2a3eb8",
   "metadata": {},
   "outputs": [],
   "source": [
    "#req: i want to appreciate the above students for submitting the work on daily basis."
   ]
  },
  {
   "cell_type": "code",
   "execution_count": 6,
   "id": "f84ae3ee-00f3-4b48-97d9-00ec1c5c73a8",
   "metadata": {},
   "outputs": [
    {
     "name": "stdout",
     "output_type": "stream",
     "text": [
      "keep up the good work, Akshay\n",
      "keep up the good work, Bhavana\n",
      "keep up the good work, Chandu\n",
      "keep up the good work, Dinesh\n",
      "keep up the good work, Eshan\n"
     ]
    }
   ],
   "source": [
    "for a in students:\n",
    "    print(f\"keep up the good work,{a.title()}\")"
   ]
  },
  {
   "cell_type": "code",
   "execution_count": 11,
   "id": "38c33025-aaa3-4684-9866-53bd8727aa8b",
   "metadata": {},
   "outputs": [
    {
     "name": "stdout",
     "output_type": "stream",
     "text": [
      "Keep up the good work, Akshay\n",
      "I am waiting to receive your submission of today, Akshay\n",
      "Keep up the good work, Bhavana\n",
      "I am waiting to receive your submission of today, Bhavana\n",
      "Keep up the good work, Chandu\n",
      "I am waiting to receive your submission of today, Chandu\n",
      "Keep up the good work, Dinesh\n",
      "I am waiting to receive your submission of today, Dinesh\n",
      "Keep up the good work, Eshan\n",
      "I am waiting to receive your submission of today, Eshan\n"
     ]
    }
   ],
   "source": [
    "for x in students:\n",
    "    print(f\"Keep up the good work, {x.title()}\")\n",
    "    print(f\"I am waiting to receive your submission of today, {x.title()}\")"
   ]
  },
  {
   "cell_type": "code",
   "execution_count": 13,
   "id": "fb3830ec-0b84-46d0-8a4e-ce1797681b2d",
   "metadata": {},
   "outputs": [
    {
     "name": "stdout",
     "output_type": "stream",
     "text": [
      "Keep up the good work, Akshay\n",
      "I am waiting to receive your submission of today, Akshay\n",
      "\n",
      "Keep up the good work, Bhavana\n",
      "I am waiting to receive your submission of today, Bhavana\n",
      "\n",
      "Keep up the good work, Chandu\n",
      "I am waiting to receive your submission of today, Chandu\n",
      "\n",
      "Keep up the good work, Dinesh\n",
      "I am waiting to receive your submission of today, Dinesh\n",
      "\n",
      "Keep up the good work, Eshan\n",
      "I am waiting to receive your submission of today, Eshan\n",
      "\n"
     ]
    }
   ],
   "source": [
    "for a in students:\n",
    "    print(f\"Keep up the good work, {a.title()}\")\n",
    "    print(f\"I am waiting to receive your submission of today, {a.title()}\\n\")"
   ]
  },
  {
   "cell_type": "code",
   "execution_count": 15,
   "id": "500e8845-a676-465e-bf02-5e9fe600b19d",
   "metadata": {},
   "outputs": [
    {
     "name": "stdout",
     "output_type": "stream",
     "text": [
      "Keep up the good work, Akshay\n",
      "I am waiting to receive your submission of today, Akshay\n",
      "\n",
      "Keep up the good work, Bhavana\n",
      "I am waiting to receive your submission of today, Bhavana\n",
      "\n",
      "Keep up the good work, Chandu\n",
      "I am waiting to receive your submission of today, Chandu\n",
      "\n",
      "Keep up the good work, Dinesh\n",
      "I am waiting to receive your submission of today, Dinesh\n",
      "\n",
      "Keep up the good work, Eshan\n",
      "I am waiting to receive your submission of today, Eshan\n",
      "\n",
      "Thank you all for attending the Python training session\n"
     ]
    }
   ],
   "source": [
    "for x in students:\n",
    "    print(f\"Keep up the good work, {x.title()}\")\n",
    "    print(f\"I am waiting to receive your submission of today, {x.title()}\\n\")\n",
    "print(\"Thank you all for attending the Python training session\")"
   ]
  },
  {
   "cell_type": "code",
   "execution_count": null,
   "id": "49d28a99-979a-4b4f-af9b-24ac62bade9a",
   "metadata": {},
   "outputs": [],
   "source": []
  },
  {
   "cell_type": "code",
   "execution_count": null,
   "id": "ddea5233-d286-4b71-b4c5-e0c3f4934a5a",
   "metadata": {},
   "outputs": [],
   "source": []
  },
  {
   "cell_type": "code",
   "execution_count": null,
   "id": "d6352c81-87ab-49f4-81a3-592b8c9ae5a4",
   "metadata": {},
   "outputs": [],
   "source": [
    "if statements:"
   ]
  },
  {
   "cell_type": "code",
   "execution_count": 17,
   "id": "3887ac89-6ed5-42d4-ae2b-a58c2158fdef",
   "metadata": {},
   "outputs": [],
   "source": [
    "cars = ['audi','tesla','BMW','honda','toyota','hyundai','kia','MG']"
   ]
  },
  {
   "cell_type": "code",
   "execution_count": 23,
   "id": "825cf5a2-2f19-4229-851f-c3806b0875d3",
   "metadata": {},
   "outputs": [
    {
     "name": "stdout",
     "output_type": "stream",
     "text": [
      "['audi', 'tesla', 'BMW', 'honda', 'toyota', 'hyundai', 'kia', 'MG']\n"
     ]
    }
   ],
   "source": [
    "print(cars)"
   ]
  },
  {
   "cell_type": "code",
   "execution_count": 20,
   "id": "2200bf27-2861-4c10-8370-9f99f8220178",
   "metadata": {},
   "outputs": [
    {
     "data": {
      "text/plain": [
       "list"
      ]
     },
     "execution_count": 20,
     "metadata": {},
     "output_type": "execute_result"
    }
   ],
   "source": [
    "type(cars)"
   ]
  },
  {
   "cell_type": "code",
   "execution_count": 21,
   "id": "8b027330-8660-46fa-b9bf-16a9b929dd83",
   "metadata": {},
   "outputs": [],
   "source": [
    "# req: I want to get kia in capital letters and rest all the cars should be printed in the title case"
   ]
  },
  {
   "cell_type": "code",
   "execution_count": 24,
   "id": "5d0a7e74-57d9-4a5c-9a3f-6928a01659f0",
   "metadata": {},
   "outputs": [
    {
     "name": "stdout",
     "output_type": "stream",
     "text": [
      "Audi\n",
      "Tesla\n",
      "Bmw\n",
      "Honda\n",
      "Toyota\n",
      "Hyundai\n",
      "KIA\n",
      "Mg\n"
     ]
    }
   ],
   "source": [
    "for a in cars:\n",
    "    if a =='kia':\n",
    "        print(a.upper())\n",
    "    else:\n",
    "        print(a.title())"
   ]
  },
  {
   "cell_type": "code",
   "execution_count": 25,
   "id": "01f419a6-8fd8-42f4-a9b4-e0603620092e",
   "metadata": {},
   "outputs": [],
   "source": [
    "#req: building an voting application"
   ]
  },
  {
   "cell_type": "code",
   "execution_count": 26,
   "id": "544f023f-8424-49a5-8a2d-f69d4a3e1a73",
   "metadata": {},
   "outputs": [],
   "source": [
    "age = 17"
   ]
  },
  {
   "cell_type": "code",
   "execution_count": 30,
   "id": "1f87a699-0de3-47b0-9a0a-3ed16b33931e",
   "metadata": {},
   "outputs": [
    {
     "name": "stdout",
     "output_type": "stream",
     "text": [
      "you are not elegible to vote\n"
     ]
    }
   ],
   "source": [
    "if age >=18:\n",
    "    print(\"you are elegible to vote\")\n",
    "else:\n",
    "    print(\"you are not elegible to vote\")"
   ]
  },
  {
   "cell_type": "code",
   "execution_count": 1,
   "id": "08d7ef43-5d83-4cf3-8d9f-3e17a00d0ee5",
   "metadata": {},
   "outputs": [
    {
     "name": "stdin",
     "output_type": "stream",
     "text": [
      "tell me something and i will repeat it back for you  Hello\n"
     ]
    },
    {
     "name": "stdout",
     "output_type": "stream",
     "text": [
      "Hello\n"
     ]
    }
   ],
   "source": [
    "message = input(\"tell me something and i will repeat it back for you \")\n",
    "print(message)"
   ]
  },
  {
   "cell_type": "code",
   "execution_count": 2,
   "id": "49a8f1f9-42aa-4a8f-86ca-c8a7c7762e58",
   "metadata": {},
   "outputs": [
    {
     "name": "stdin",
     "output_type": "stream",
     "text": [
      "please enter your name:  Sanjoy\n"
     ]
    },
    {
     "name": "stdout",
     "output_type": "stream",
     "text": [
      "\n",
      "Hello,Sanjoy\n"
     ]
    }
   ],
   "source": [
    "#i want to greet the user based on the input:\n",
    "name = input(\"please enter your name: \")\n",
    "print(f\"\\nHello,{name}\")"
   ]
  },
  {
   "cell_type": "code",
   "execution_count": 4,
   "id": "86b30ac1-d353-44e3-a00e-2db34a5482db",
   "metadata": {},
   "outputs": [
    {
     "name": "stdin",
     "output_type": "stream",
     "text": [
      "how old are you? 20\n"
     ]
    },
    {
     "name": "stdout",
     "output_type": "stream",
     "text": [
      "your eligible to vote\n"
     ]
    }
   ],
   "source": [
    "age = input(\"how old are you?\")\n",
    "age = int(age)   # im converting the string to int\n",
    "if age >= 18:\n",
    "    print(\"your eligible to vote\")\n",
    "else:\n",
    "    print(\"you are not eligible to vote\")"
   ]
  },
  {
   "cell_type": "code",
   "execution_count": null,
   "id": "cb12c758-5573-4873-8159-f61c6a6f680d",
   "metadata": {},
   "outputs": [],
   "source": []
  },
  {
   "cell_type": "code",
   "execution_count": 6,
   "id": "41b76ab2-beec-4426-b8e3-c3d8e7fe4840",
   "metadata": {},
   "outputs": [
    {
     "name": "stdin",
     "output_type": "stream",
     "text": [
      "enter a number, i will tell you its even or odd 5\n"
     ]
    },
    {
     "name": "stdout",
     "output_type": "stream",
     "text": [
      "\n",
      " the number5 is odd\n"
     ]
    }
   ],
   "source": [
    "#req : if given a number by the user, i want to find whether its even or odd\n",
    "number = int(input(\"enter a number, i will tell you its even or odd\"))\n",
    "if number%2 == 0:\n",
    "    print(f\"\\n the number {number} is even\")\n",
    "else:\n",
    "    print(f\"\\n the number{number} is odd\")"
   ]
  },
  {
   "cell_type": "code",
   "execution_count": null,
   "id": "0a4ef25e-8c0d-4448-87b4-1d242583d9cb",
   "metadata": {},
   "outputs": [],
   "source": []
  }
 ],
 "metadata": {
  "kernelspec": {
   "display_name": "Python 3 (ipykernel)",
   "language": "python",
   "name": "python3"
  },
  "language_info": {
   "codemirror_mode": {
    "name": "ipython",
    "version": 3
   },
   "file_extension": ".py",
   "mimetype": "text/x-python",
   "name": "python",
   "nbconvert_exporter": "python",
   "pygments_lexer": "ipython3",
   "version": "3.13.5"
  }
 },
 "nbformat": 4,
 "nbformat_minor": 5
}
