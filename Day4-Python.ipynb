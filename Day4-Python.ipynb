{
 "cells": [
  {
   "cell_type": "code",
   "execution_count": 2,
   "id": "d329a1d5-84e4-42d4-b1df-af573e99a277",
   "metadata": {},
   "outputs": [
    {
     "name": "stdout",
     "output_type": "stream",
     "text": [
      "123\n"
     ]
    }
   ],
   "source": [
    "number =123\n",
    "print(number)"
   ]
  },
  {
   "cell_type": "code",
   "execution_count": 3,
   "id": "fdad4816-9a8e-4c54-8e2c-84b1ea8f7d06",
   "metadata": {},
   "outputs": [
    {
     "data": {
      "text/plain": [
       "int"
      ]
     },
     "execution_count": 3,
     "metadata": {},
     "output_type": "execute_result"
    }
   ],
   "source": [
    "type(number)"
   ]
  },
  {
   "cell_type": "code",
   "execution_count": 4,
   "id": "21afa98d-46af-42d8-8b6e-aa3a80c85fff",
   "metadata": {},
   "outputs": [
    {
     "name": "stdout",
     "output_type": "stream",
     "text": [
      "0.1\n"
     ]
    }
   ],
   "source": [
    "number1 = 0.1\n",
    "print(number1)"
   ]
  },
  {
   "cell_type": "code",
   "execution_count": 5,
   "id": "77cee490-a404-47ae-82c2-435774d46bda",
   "metadata": {},
   "outputs": [
    {
     "data": {
      "text/plain": [
       "float"
      ]
     },
     "execution_count": 5,
     "metadata": {},
     "output_type": "execute_result"
    }
   ],
   "source": [
    "type(number1)"
   ]
  },
  {
   "cell_type": "code",
   "execution_count": 7,
   "id": "66942805-7301-4701-b59a-6d4ac6310fe8",
   "metadata": {},
   "outputs": [
    {
     "name": "stdout",
     "output_type": "stream",
     "text": [
      "['sanjoy', 'vimal', 'rajesh', 'umesh', 'divya']\n"
     ]
    }
   ],
   "source": [
    "student = ['sanjoy','vimal','rajesh','umesh','divya']\n",
    "print(student)"
   ]
  },
  {
   "cell_type": "code",
   "execution_count": 8,
   "id": "14a0b5b3-7912-4f54-8a5d-33c805a730ec",
   "metadata": {},
   "outputs": [
    {
     "data": {
      "text/plain": [
       "list"
      ]
     },
     "execution_count": 8,
     "metadata": {},
     "output_type": "execute_result"
    }
   ],
   "source": [
    "type(student)"
   ]
  },
  {
   "cell_type": "code",
   "execution_count": 10,
   "id": "3e46641f-265b-4332-8034-48b50fd9de94",
   "metadata": {},
   "outputs": [
    {
     "name": "stdout",
     "output_type": "stream",
     "text": [
      "rajesh\n"
     ]
    }
   ],
   "source": [
    "print(student[2])"
   ]
  },
  {
   "cell_type": "code",
   "execution_count": 12,
   "id": "7e916e7b-0c7e-42b3-9e93-33d222462f1a",
   "metadata": {},
   "outputs": [
    {
     "name": "stdout",
     "output_type": "stream",
     "text": [
      "Rajesh\n"
     ]
    }
   ],
   "source": [
    "print(student[2].title())"
   ]
  },
  {
   "cell_type": "code",
   "execution_count": 13,
   "id": "1627a566-0bd5-483b-bf16-e36c5a783551",
   "metadata": {},
   "outputs": [
    {
     "name": "stdout",
     "output_type": "stream",
     "text": [
      "Vimal\n"
     ]
    }
   ],
   "source": [
    "print(student[1].title())"
   ]
  },
  {
   "cell_type": "code",
   "execution_count": 31,
   "id": "b649a44b-72b2-4f91-8e1b-8e85abf426f4",
   "metadata": {},
   "outputs": [
    {
     "name": "stdout",
     "output_type": "stream",
     "text": [
      "['sanjoy', 'vimal', 'rajesh', 'umesh', 'divya']\n"
     ]
    }
   ],
   "source": [
    "student = ['sanjoy','vimal','rajesh','umesh','divya']\n",
    "print(student)"
   ]
  },
  {
   "cell_type": "code",
   "execution_count": 32,
   "id": "41c033bf-5f18-4da4-8e9e-bad5151713aa",
   "metadata": {},
   "outputs": [
    {
     "name": "stdout",
     "output_type": "stream",
     "text": [
      "['sanjoy', 'vimal', 'rajesh', 'umesh', 'divya', 'hari']\n"
     ]
    }
   ],
   "source": [
    "student.append('hari')\n",
    "print(student)"
   ]
  },
  {
   "cell_type": "code",
   "execution_count": 33,
   "id": "d5549fb6-ce87-4c4b-b66a-426c6672f1c5",
   "metadata": {},
   "outputs": [
    {
     "name": "stdout",
     "output_type": "stream",
     "text": [
      "['sanjoy', 'vimal', 'rajesh', 'umesh', 'divya', 'hari', 'Mazhar']\n"
     ]
    }
   ],
   "source": [
    "student.append('Mazhar')\n",
    "print(student)"
   ]
  },
  {
   "cell_type": "code",
   "execution_count": 34,
   "id": "a9cb7208-9b6d-4b79-903f-e36f74429971",
   "metadata": {},
   "outputs": [
    {
     "name": "stdout",
     "output_type": "stream",
     "text": [
      "['sanjoy', 'vimal', 'rajesh', 'Deb', 'umesh', 'divya', 'hari', 'Mazhar']\n"
     ]
    }
   ],
   "source": [
    "student.insert(3,'Deb')\n",
    "print(student)"
   ]
  },
  {
   "cell_type": "code",
   "execution_count": 35,
   "id": "9871b8ca-625c-4f8d-8f1d-39a335bcf352",
   "metadata": {},
   "outputs": [
    {
     "name": "stdout",
     "output_type": "stream",
     "text": [
      "Deb\n"
     ]
    }
   ],
   "source": [
    "print(student[3])"
   ]
  },
  {
   "cell_type": "code",
   "execution_count": 36,
   "id": "6e9982fb-0e8f-411b-9996-03e007edf4d9",
   "metadata": {},
   "outputs": [
    {
     "name": "stdout",
     "output_type": "stream",
     "text": [
      "['sanjoy', 'vimal', 'rajesh', 'Deb', 'umesh', 'divya', 'hari', 'Mazhar']\n"
     ]
    }
   ],
   "source": [
    "print(student)"
   ]
  },
  {
   "cell_type": "code",
   "execution_count": 37,
   "id": "1a44b7ed-b69a-4b45-8b0e-4f33f6b5a6df",
   "metadata": {},
   "outputs": [
    {
     "name": "stdout",
     "output_type": "stream",
     "text": [
      "['sanjoy', 'vimal', 'Karthik', 'Deb', 'umesh', 'divya', 'hari', 'Mazhar']\n"
     ]
    }
   ],
   "source": [
    "student[2] = 'Karthik'\n",
    "print(student)"
   ]
  },
  {
   "cell_type": "code",
   "execution_count": 38,
   "id": "4809e454-a425-41bf-ad56-ade3644b7f50",
   "metadata": {},
   "outputs": [
    {
     "name": "stdout",
     "output_type": "stream",
     "text": [
      "['sanjoy', 'vimal', 'Karthik', 'Deb', 'umesh', 'hari', 'Mazhar']\n"
     ]
    }
   ],
   "source": [
    "del student[5]\n",
    "print(student)"
   ]
  },
  {
   "cell_type": "code",
   "execution_count": 46,
   "id": "0618775e-7880-4c10-9bd5-692fb1714b4b",
   "metadata": {},
   "outputs": [
    {
     "name": "stdout",
     "output_type": "stream",
     "text": [
      "['sanjoy', 'vimal', 'Karthik', 'Deb', 'umesh', 'hari', 'Mazhar']\n"
     ]
    }
   ],
   "source": [
    "print(student)\n"
   ]
  },
  {
   "cell_type": "code",
   "execution_count": null,
   "id": "99315edf-7543-43a5-8016-9ea37f8880fa",
   "metadata": {},
   "outputs": [],
   "source": []
  }
 ],
 "metadata": {
  "kernelspec": {
   "display_name": "Python 3 (ipykernel)",
   "language": "python",
   "name": "python3"
  },
  "language_info": {
   "codemirror_mode": {
    "name": "ipython",
    "version": 3
   },
   "file_extension": ".py",
   "mimetype": "text/x-python",
   "name": "python",
   "nbconvert_exporter": "python",
   "pygments_lexer": "ipython3",
   "version": "3.13.5"
  }
 },
 "nbformat": 4,
 "nbformat_minor": 5
}
