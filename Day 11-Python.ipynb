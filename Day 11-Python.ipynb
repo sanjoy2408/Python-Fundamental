{
 "cells": [
  {
   "cell_type": "code",
   "execution_count": 1,
   "id": "6ea58148-3238-4bd9-b634-a78c7a260aca",
   "metadata": {},
   "outputs": [],
   "source": [
    "#class example : req : design a dog class with its functionalities"
   ]
  },
  {
   "cell_type": "code",
   "execution_count": 2,
   "id": "e2573ac4-9e6c-400e-8907-12580eee4ddb",
   "metadata": {},
   "outputs": [],
   "source": [
    "class Dog:\n",
    "    \"\"\"a simple attempt to model the dog\"\"\"\n",
    "    def __init__(self,name,age):   # this is a method\n",
    "        \"\"\"initalize name and age attributes\"\"\"\n",
    "        self.name = name   # these are attributes\n",
    "        self.age = age\n",
    "\n",
    "    def sit(self):\n",
    "        \"\"\"stimulates a dog sitting in response to a command\"\"\"\n",
    "        print(f\"{self.name} is now sitting\")\n",
    "\n",
    "    def roll_over(self):\n",
    "        \"\"\"simulate rolling over in response to the command\"\"\"\n",
    "        print(f\"{self.name} rolled over\")"
   ]
  },
  {
   "cell_type": "code",
   "execution_count": 3,
   "id": "c8179224-06c2-4119-9bdb-4b47a0b4eaf5",
   "metadata": {},
   "outputs": [],
   "source": [
    "test = Dog('Bruno',6)"
   ]
  },
  {
   "cell_type": "code",
   "execution_count": 4,
   "id": "651dbabb-eff3-47aa-a3c1-60d0c41b1fee",
   "metadata": {},
   "outputs": [
    {
     "name": "stdout",
     "output_type": "stream",
     "text": [
      "Bruno is now sitting\n"
     ]
    }
   ],
   "source": [
    "test.sit()"
   ]
  },
  {
   "cell_type": "code",
   "execution_count": 5,
   "id": "a74170ec-dae0-468d-aa6f-140d8fc02730",
   "metadata": {},
   "outputs": [
    {
     "name": "stdout",
     "output_type": "stream",
     "text": [
      "Bruno rolled over\n"
     ]
    }
   ],
   "source": [
    "test.roll_over()"
   ]
  },
  {
   "cell_type": "code",
   "execution_count": 6,
   "id": "1e8182dc-8524-44ed-b4a4-7aa0d401d375",
   "metadata": {},
   "outputs": [],
   "source": [
    "class car:\n",
    "    \"\"\"a simple attempt to represent a car\"\"\"\n",
    "    def __init__(self,make,model,year):\n",
    "        \"\"\"initialize the attributes to describe the car over here\"\"\"\n",
    "        self.make = make\n",
    "        self.model = model\n",
    "        self.year = year\n",
    "    def get_descriptive_name(self):\n",
    "        \"\"\"return a neatly formatted descriptive name\"\"\"\n",
    "        long_name = f\"{self.make} {self.model} {self.year}\"\n",
    "        return long_name.title()"
   ]
  },
  {
   "cell_type": "code",
   "execution_count": 7,
   "id": "7de00a39-35bb-4051-ac4f-c6c3ad1f82c5",
   "metadata": {},
   "outputs": [],
   "source": [
    "my_new_car = car('audi','a4',2020)"
   ]
  },
  {
   "cell_type": "code",
   "execution_count": 8,
   "id": "a7378f54-8a8b-436a-90d7-edbeebbda95d",
   "metadata": {},
   "outputs": [
    {
     "name": "stdout",
     "output_type": "stream",
     "text": [
      "Audi A4 2020\n"
     ]
    }
   ],
   "source": [
    "print(my_new_car.get_descriptive_name())"
   ]
  },
  {
   "cell_type": "code",
   "execution_count": null,
   "id": "34163e38-758f-4c80-9e4f-ec0c2ac83ca0",
   "metadata": {},
   "outputs": [],
   "source": []
  }
 ],
 "metadata": {
  "kernelspec": {
   "display_name": "Python 3 (ipykernel)",
   "language": "python",
   "name": "python3"
  },
  "language_info": {
   "codemirror_mode": {
    "name": "ipython",
    "version": 3
   },
   "file_extension": ".py",
   "mimetype": "text/x-python",
   "name": "python",
   "nbconvert_exporter": "python",
   "pygments_lexer": "ipython3",
   "version": "3.13.5"
  }
 },
 "nbformat": 4,
 "nbformat_minor": 5
}
