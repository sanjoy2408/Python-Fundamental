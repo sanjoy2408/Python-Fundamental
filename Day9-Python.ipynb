{
 "cells": [
  {
   "cell_type": "code",
   "execution_count": null,
   "id": "72a0a3a6-4fa1-4995-ba37-92923ce3ffd2",
   "metadata": {},
   "outputs": [],
   "source": [
    "Introduction to python functions:\n",
    "\n",
    "how to define a python function: def\n",
    "for giving a function name use small case letters"
   ]
  },
  {
   "cell_type": "code",
   "execution_count": 2,
   "id": "0fedade6-cd37-4c6a-b8e2-095a1668c7c7",
   "metadata": {},
   "outputs": [],
   "source": [
    "def greet():   #this part is called as defining the function\n",
    "    \"\"\"this function will greet the user\"\"\"  #this is doc string \n",
    "    print(\"hello\")"
   ]
  },
  {
   "cell_type": "code",
   "execution_count": 3,
   "id": "0176de4b-f16e-4b01-a231-1b24c65f39d1",
   "metadata": {},
   "outputs": [
    {
     "name": "stdout",
     "output_type": "stream",
     "text": [
      "hello\n"
     ]
    }
   ],
   "source": [
    "greet()   #function call "
   ]
  },
  {
   "cell_type": "code",
   "execution_count": 9,
   "id": "da0da07b-441e-4e7d-b4ae-dd872077e542",
   "metadata": {},
   "outputs": [],
   "source": [
    "def greet_user():\n",
    "    \"\"\"display a simple greeting\"\"\"\n",
    "    print(\"Hello\")"
   ]
  },
  {
   "cell_type": "code",
   "execution_count": 10,
   "id": "f7aafc2b-42eb-4c1d-b8b9-e91cf4becb78",
   "metadata": {},
   "outputs": [
    {
     "name": "stdout",
     "output_type": "stream",
     "text": [
      "Hello\n"
     ]
    }
   ],
   "source": [
    "greet_user()"
   ]
  },
  {
   "cell_type": "code",
   "execution_count": 11,
   "id": "565ef776-3e00-4b1d-943c-787e5508f0fb",
   "metadata": {},
   "outputs": [],
   "source": [
    "def greet_user(username):      #declaring parameters   #params\n",
    "    \"\"\"display a simple greeting\"\"\"\n",
    "    print(f\"hello,{username.title()}\")"
   ]
  },
  {
   "cell_type": "code",
   "execution_count": 13,
   "id": "84e8ff87-2bad-49e8-84d6-94b33c36534a",
   "metadata": {},
   "outputs": [
    {
     "name": "stdout",
     "output_type": "stream",
     "text": [
      "hello,Anil\n"
     ]
    }
   ],
   "source": [
    "greet_user('anil')   #arguments passing   #args"
   ]
  },
  {
   "cell_type": "code",
   "execution_count": 14,
   "id": "2052c689-e7e3-4593-8900-2a378b942f61",
   "metadata": {},
   "outputs": [
    {
     "name": "stdout",
     "output_type": "stream",
     "text": [
      "hello,Harshad\n"
     ]
    }
   ],
   "source": [
    "greet_user('harshad')"
   ]
  },
  {
   "cell_type": "code",
   "execution_count": 15,
   "id": "aa963cf5-b5f0-4df4-9f83-3659cfbe2646",
   "metadata": {},
   "outputs": [],
   "source": [
    "#def the func\n",
    "#req: define the func with name describe_pet which takes two parameters : pet_name and animal_type"
   ]
  },
  {
   "cell_type": "code",
   "execution_count": 16,
   "id": "f67f272e-f9bd-4b90-873d-f46def9064b7",
   "metadata": {},
   "outputs": [],
   "source": [
    "def describe_pet(animal_type,pet_name):\n",
    "    \"\"\"Describe the info abt the pet\"\"\"\n",
    "    print(f\"\\nI have a {animal_type}\")\n",
    "    print(f\"my {animal_type}'s name is {pet_name}\")"
   ]
  },
  {
   "cell_type": "code",
   "execution_count": 17,
   "id": "58fd5c70-40e8-4af3-b144-83e2ce8dbc1e",
   "metadata": {},
   "outputs": [
    {
     "name": "stdout",
     "output_type": "stream",
     "text": [
      "\n",
      "I have a Dog\n",
      "my Dog's name is Buno\n"
     ]
    }
   ],
   "source": [
    "describe_pet('Dog','Buno')"
   ]
  },
  {
   "cell_type": "code",
   "execution_count": 18,
   "id": "3e5417b9-639a-4cbd-a412-a81957d95b93",
   "metadata": {},
   "outputs": [
    {
     "name": "stdout",
     "output_type": "stream",
     "text": [
      "\n",
      "I have a Cat\n",
      "my Cat's name is Rex\n"
     ]
    }
   ],
   "source": [
    "describe_pet('Cat','Rex')"
   ]
  },
  {
   "cell_type": "code",
   "execution_count": 19,
   "id": "56accaf8-619d-4a7e-a9a6-7b543537f064",
   "metadata": {},
   "outputs": [
    {
     "name": "stdout",
     "output_type": "stream",
     "text": [
      "\n",
      "I have a Parrot\n",
      "my Parrot's name is Sweety\n"
     ]
    }
   ],
   "source": [
    "describe_pet('Parrot','Sweety')"
   ]
  },
  {
   "cell_type": "code",
   "execution_count": 23,
   "id": "2b554e89-64e6-466a-a117-f70a16c30395",
   "metadata": {},
   "outputs": [
    {
     "name": "stdout",
     "output_type": "stream",
     "text": [
      "\n",
      "I have a Sweety\n",
      "my Sweety's name is Parrot\n"
     ]
    }
   ],
   "source": [
    "describe_pet('Sweety','Parrot')  #wrong arguments"
   ]
  },
  {
   "cell_type": "code",
   "execution_count": 21,
   "id": "df7ec2a8-22c2-4b9d-a754-f87d7b95fa37",
   "metadata": {},
   "outputs": [
    {
     "name": "stdout",
     "output_type": "stream",
     "text": [
      "\n",
      "I have a parrot\n",
      "my parrot's name is sweety\n"
     ]
    }
   ],
   "source": [
    "describe_pet(pet_name = 'sweety', animal_type = 'parrot')"
   ]
  },
  {
   "cell_type": "code",
   "execution_count": null,
   "id": "2a8442c0-4c4d-4865-a86b-426ed23b361b",
   "metadata": {},
   "outputs": [],
   "source": []
  }
 ],
 "metadata": {
  "kernelspec": {
   "display_name": "Python 3 (ipykernel)",
   "language": "python",
   "name": "python3"
  },
  "language_info": {
   "codemirror_mode": {
    "name": "ipython",
    "version": 3
   },
   "file_extension": ".py",
   "mimetype": "text/x-python",
   "name": "python",
   "nbconvert_exporter": "python",
   "pygments_lexer": "ipython3",
   "version": "3.13.5"
  }
 },
 "nbformat": 4,
 "nbformat_minor": 5
}
