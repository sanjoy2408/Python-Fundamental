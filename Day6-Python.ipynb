{
 "cells": [
  {
   "cell_type": "code",
   "execution_count": 1,
   "id": "5e6dd28c-1bc9-494c-a146-63cef02df405",
   "metadata": {},
   "outputs": [],
   "source": [
    "# I want to design Alien game"
   ]
  },
  {
   "cell_type": "code",
   "execution_count": 5,
   "id": "6ef14be9-8e2f-468d-b269-01ec7593ebae",
   "metadata": {},
   "outputs": [
    {
     "name": "stdout",
     "output_type": "stream",
     "text": [
      "{'color': 'green', 'points': 5}\n"
     ]
    }
   ],
   "source": [
    "Alien = {'color':'green','points':5}\n",
    "print(Alien)"
   ]
  },
  {
   "cell_type": "code",
   "execution_count": 6,
   "id": "70386370-4898-4516-945e-7cdc3be0f799",
   "metadata": {},
   "outputs": [
    {
     "data": {
      "text/plain": [
       "dict"
      ]
     },
     "execution_count": 6,
     "metadata": {},
     "output_type": "execute_result"
    }
   ],
   "source": [
    "type(Alien)"
   ]
  },
  {
   "cell_type": "code",
   "execution_count": 7,
   "id": "a59b2125-a4ff-4411-ba37-1db8301b9ac3",
   "metadata": {},
   "outputs": [],
   "source": [
    "#if i want to add the start position of the Alien"
   ]
  },
  {
   "cell_type": "code",
   "execution_count": 8,
   "id": "9061d451-cf61-47b9-832e-b1622541a0f1",
   "metadata": {},
   "outputs": [],
   "source": [
    "Alien[\"start_position\"]=\"level 1\""
   ]
  },
  {
   "cell_type": "code",
   "execution_count": 9,
   "id": "fdd0aadc-f895-4d05-933e-3a29a307eea5",
   "metadata": {},
   "outputs": [
    {
     "name": "stdout",
     "output_type": "stream",
     "text": [
      "{'color': 'green', 'points': 5, 'start_position': 'level 1'}\n"
     ]
    }
   ],
   "source": [
    "print(Alien)"
   ]
  },
  {
   "cell_type": "code",
   "execution_count": 10,
   "id": "e1b258e6-0b35-4429-8625-3c45d381ba30",
   "metadata": {},
   "outputs": [],
   "source": [
    "# if i want to know the color of the Alien"
   ]
  },
  {
   "cell_type": "code",
   "execution_count": 11,
   "id": "47d47cbe-3fc7-4741-ad1b-10f3893184e9",
   "metadata": {},
   "outputs": [
    {
     "ename": "KeyError",
     "evalue": "0",
     "output_type": "error",
     "traceback": [
      "\u001b[1;31m---------------------------------------------------------------------------\u001b[0m",
      "\u001b[1;31mKeyError\u001b[0m                                  Traceback (most recent call last)",
      "Cell \u001b[1;32mIn[11], line 1\u001b[0m\n\u001b[1;32m----> 1\u001b[0m \u001b[38;5;28mprint\u001b[39m(Alien[\u001b[38;5;241m0\u001b[39m])\n",
      "\u001b[1;31mKeyError\u001b[0m: 0"
     ]
    }
   ],
   "source": [
    "print(Alien[0])"
   ]
  },
  {
   "cell_type": "code",
   "execution_count": 13,
   "id": "4bbdfc2d-b3e7-4e0e-995e-6d6972dcdbf3",
   "metadata": {},
   "outputs": [
    {
     "name": "stdout",
     "output_type": "stream",
     "text": [
      "green\n"
     ]
    }
   ],
   "source": [
    "print(Alien['color'])"
   ]
  },
  {
   "cell_type": "code",
   "execution_count": 14,
   "id": "8bf05810-1ec4-45d3-b865-0343585ed2b0",
   "metadata": {},
   "outputs": [],
   "source": [
    "# in dictionary keys will be acting as indexes, hence the above error came when put 0 as indexes"
   ]
  },
  {
   "cell_type": "code",
   "execution_count": 15,
   "id": "516293ae-f9a6-448e-b331-eb3e0dd8d728",
   "metadata": {},
   "outputs": [],
   "source": [
    "# want to modify the color of the Alien from green to Red"
   ]
  },
  {
   "cell_type": "code",
   "execution_count": 17,
   "id": "e1b8ea0e-c446-4206-855c-a7a1dc0af84a",
   "metadata": {},
   "outputs": [
    {
     "name": "stdout",
     "output_type": "stream",
     "text": [
      "{'color': 'Red', 'points': 5, 'start_position': 'level 1'}\n"
     ]
    }
   ],
   "source": [
    "Alien['color']='Red'\n",
    "print(Alien)\n"
   ]
  },
  {
   "cell_type": "code",
   "execution_count": 18,
   "id": "e01a0a0e-0c73-444f-a2e6-b16e680e8a47",
   "metadata": {},
   "outputs": [],
   "source": [
    "# want to create facebook user account"
   ]
  },
  {
   "cell_type": "code",
   "execution_count": 19,
   "id": "399bd78a-cb19-40e4-88c7-14e437b3f824",
   "metadata": {},
   "outputs": [],
   "source": [
    "user_account = {'firstname':'code','lastname':'training','username':'codetrainingAcademy','DOB':'01-01-2020','pwd':'12345'}"
   ]
  },
  {
   "cell_type": "code",
   "execution_count": 24,
   "id": "1dd12643-9470-4eef-87b1-c1d77618c3ba",
   "metadata": {},
   "outputs": [
    {
     "name": "stdout",
     "output_type": "stream",
     "text": [
      "{'firstname': 'code', 'lastname': 'training', 'username': 'codetrainingAcademy', 'DOB': '01-01-2020', 'pwd': '12345'}\n"
     ]
    }
   ],
   "source": [
    "print(user_account)"
   ]
  },
  {
   "cell_type": "code",
   "execution_count": 25,
   "id": "74008ac0-6a2c-428e-a8ba-71b7cd6f4b6a",
   "metadata": {},
   "outputs": [],
   "source": [
    "#how to delete key value pairs, i want to delete lastname"
   ]
  },
  {
   "cell_type": "code",
   "execution_count": null,
   "id": "fcca1bcf-af78-49a4-b50d-2c96cf46cd60",
   "metadata": {},
   "outputs": [],
   "source": [
    "del user_account['lastname']"
   ]
  },
  {
   "cell_type": "code",
   "execution_count": 36,
   "id": "0662583a-1114-4f9d-949d-7bf5e1070d7f",
   "metadata": {},
   "outputs": [
    {
     "name": "stdout",
     "output_type": "stream",
     "text": [
      "{'firstname': 'code', 'username': 'codetrainingAcademy', 'DOB': '01-01-2020', 'pwd': '12345'}\n"
     ]
    }
   ],
   "source": [
    "print(user_account)"
   ]
  },
  {
   "cell_type": "code",
   "execution_count": 37,
   "id": "8ca33e06-a78a-4d14-932c-1d09dd9574cb",
   "metadata": {},
   "outputs": [
    {
     "name": "stdout",
     "output_type": "stream",
     "text": [
      "{'firstname': 'code', 'username': 'codetrainingAcademy', 'pwd': '12345'}\n"
     ]
    }
   ],
   "source": [
    "del user_account['DOB']\n",
    "print(user_account)"
   ]
  },
  {
   "cell_type": "code",
   "execution_count": 38,
   "id": "ff5996b9-b482-4c35-8c05-7029acb60f54",
   "metadata": {},
   "outputs": [],
   "source": [
    "#looping statement, if i want to appreciate a stuedent"
   ]
  },
  {
   "cell_type": "code",
   "execution_count": 39,
   "id": "1df65d02-6ef2-48cb-81b3-b81d89b662ff",
   "metadata": {},
   "outputs": [],
   "source": [
    "students=['Durga','Dinesh','Kavya','Noor','Raza','Adil','Joseph']"
   ]
  },
  {
   "cell_type": "code",
   "execution_count": 40,
   "id": "cc12d3aa-ae74-4de3-bd91-590eb707483c",
   "metadata": {},
   "outputs": [
    {
     "name": "stdout",
     "output_type": "stream",
     "text": [
      "['Durga', 'Dinesh', 'Kavya', 'Noor', 'Raza', 'Adil', 'Joseph']\n"
     ]
    }
   ],
   "source": [
    "print(students)"
   ]
  },
  {
   "cell_type": "code",
   "execution_count": 41,
   "id": "f3f721e1-bcc6-4921-aaf5-94c2b8e21d72",
   "metadata": {},
   "outputs": [
    {
     "name": "stdout",
     "output_type": "stream",
     "text": [
      "Keep up the good work, Durga\n"
     ]
    }
   ],
   "source": [
    "print(f\"Keep up the good work, {students[0].title()}\")"
   ]
  },
  {
   "cell_type": "code",
   "execution_count": 42,
   "id": "13409a79-e804-46ef-9a08-51481606d52f",
   "metadata": {},
   "outputs": [
    {
     "name": "stdout",
     "output_type": "stream",
     "text": [
      "Keep up the good work, Kavya\n"
     ]
    }
   ],
   "source": [
    "print(f\"Keep up the good work, {students[2].title()}\")"
   ]
  },
  {
   "cell_type": "code",
   "execution_count": 43,
   "id": "d3a779d7-af4a-4e7e-af19-dec55855fc7b",
   "metadata": {},
   "outputs": [],
   "source": [
    "# if i want to send a message to all"
   ]
  },
  {
   "cell_type": "code",
   "execution_count": 48,
   "id": "f78d23ba-2ceb-428e-99b3-6a6a3fb0d9cf",
   "metadata": {},
   "outputs": [
    {
     "name": "stdout",
     "output_type": "stream",
     "text": [
      "Keep up the good work, Durga\n",
      "Keep up the good work, Dinesh\n",
      "Keep up the good work, Kavya\n",
      "Keep up the good work, Noor\n",
      "Keep up the good work, Raza\n",
      "Keep up the good work, Adil\n",
      "Keep up the good work, Joseph\n"
     ]
    }
   ],
   "source": [
    "for a in students:\n",
    "  print(f\"Keep up the good work, {a.title()}\")"
   ]
  },
  {
   "cell_type": "code",
   "execution_count": 51,
   "id": "7c5523c1-35eb-4097-8390-5ae6addfe82b",
   "metadata": {},
   "outputs": [
    {
     "name": "stdout",
     "output_type": "stream",
     "text": [
      "Durga\n",
      "Dinesh\n",
      "Kavya\n",
      "Noor\n",
      "Raza\n",
      "Adil\n",
      "Joseph\n"
     ]
    }
   ],
   "source": [
    "for x in students:\n",
    "    print(x)"
   ]
  },
  {
   "cell_type": "code",
   "execution_count": null,
   "id": "c7988faf-b8e4-4c12-a5b4-5ef495310caf",
   "metadata": {},
   "outputs": [],
   "source": []
  }
 ],
 "metadata": {
  "kernelspec": {
   "display_name": "Python 3 (ipykernel)",
   "language": "python",
   "name": "python3"
  },
  "language_info": {
   "codemirror_mode": {
    "name": "ipython",
    "version": 3
   },
   "file_extension": ".py",
   "mimetype": "text/x-python",
   "name": "python",
   "nbconvert_exporter": "python",
   "pygments_lexer": "ipython3",
   "version": "3.13.5"
  }
 },
 "nbformat": 4,
 "nbformat_minor": 5
}
