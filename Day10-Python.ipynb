{
 "cells": [
  {
   "cell_type": "code",
   "execution_count": null,
   "id": "355a8c45-b246-44fa-b03c-151c5a22b5d7",
   "metadata": {},
   "outputs": [],
   "source": []
  },
  {
   "cell_type": "code",
   "execution_count": 1,
   "id": "12c30876-983a-43cd-bf7a-244b22158fc7",
   "metadata": {},
   "outputs": [],
   "source": [
    "def describe_pet(pet_name,animal_type = 'dog'):\n",
    "    \"\"\"Describe the info abt the pet\"\"\"\n",
    "    print(f\"\\nI have a {animal_type}\")\n",
    "    print(f\"my {animal_type}'s name is {pet_name}\")"
   ]
  },
  {
   "cell_type": "code",
   "execution_count": 3,
   "id": "81d4c63e-28bd-405f-a60a-de4cf316df42",
   "metadata": {},
   "outputs": [
    {
     "name": "stdout",
     "output_type": "stream",
     "text": [
      "\n",
      "I have a Bruno\n",
      "my Bruno's name is Dog\n"
     ]
    }
   ],
   "source": [
    "describe_pet('Dog','Bruno')"
   ]
  },
  {
   "cell_type": "code",
   "execution_count": 5,
   "id": "c20c146f-060a-44f4-824d-a488430c1d32",
   "metadata": {},
   "outputs": [],
   "source": [
    "def describe_pet(animal_type,pet_name):\n",
    "    \"\"\"Describe the info abt the pet\"\"\"\n",
    "    print(f\"\\nI have a {animal_type}\")\n",
    "    print(f\"my {animal_type}'s name is {pet_name}\")"
   ]
  },
  {
   "cell_type": "code",
   "execution_count": 6,
   "id": "bc0f1bd3-8837-4b9a-bda0-c6dbb764e981",
   "metadata": {},
   "outputs": [
    {
     "name": "stdout",
     "output_type": "stream",
     "text": [
      "\n",
      "I have a Dog\n",
      "my Dog's name is Bruno\n"
     ]
    }
   ],
   "source": [
    "describe_pet('Dog','Bruno')"
   ]
  },
  {
   "cell_type": "code",
   "execution_count": 7,
   "id": "2ab9e1cc-d636-4025-a5a1-4600d0668165",
   "metadata": {},
   "outputs": [
    {
     "ename": "TypeError",
     "evalue": "describe_pet() missing 1 required positional argument: 'pet_name'",
     "output_type": "error",
     "traceback": [
      "\u001b[1;31m---------------------------------------------------------------------------\u001b[0m",
      "\u001b[1;31mTypeError\u001b[0m                                 Traceback (most recent call last)",
      "Cell \u001b[1;32mIn[7], line 1\u001b[0m\n\u001b[1;32m----> 1\u001b[0m describe_pet(\u001b[38;5;124m'\u001b[39m\u001b[38;5;124mrex\u001b[39m\u001b[38;5;124m'\u001b[39m)\n",
      "\u001b[1;31mTypeError\u001b[0m: describe_pet() missing 1 required positional argument: 'pet_name'"
     ]
    }
   ],
   "source": [
    "describe_pet('rex')"
   ]
  },
  {
   "cell_type": "code",
   "execution_count": 8,
   "id": "7d6734f1-c7d7-42a9-ac04-d5500b770018",
   "metadata": {},
   "outputs": [],
   "source": [
    "#default arguments"
   ]
  },
  {
   "cell_type": "code",
   "execution_count": 9,
   "id": "67c9929c-17ad-4c75-982a-5f15a6d9c74f",
   "metadata": {},
   "outputs": [],
   "source": [
    "def describe_pet(pet_name, animal_type = 'Dog'):\n",
    "    \"\"\"Describe the info abt the pet\"\"\"\n",
    "    print(f\"\\nI have a {animal_type}\")\n",
    "    print(f\"my {animal_type}'s name is {pet_name}\")"
   ]
  },
  {
   "cell_type": "code",
   "execution_count": 14,
   "id": "5f17d03c-f956-47cc-bfcb-745f9ac70c0f",
   "metadata": {},
   "outputs": [
    {
     "name": "stdout",
     "output_type": "stream",
     "text": [
      "\n",
      "I have a Dog\n",
      "my Dog's name is Rex\n"
     ]
    }
   ],
   "source": [
    "describe_pet('Rex')"
   ]
  },
  {
   "cell_type": "code",
   "execution_count": null,
   "id": "93a47607-2805-4d64-951d-ffd11f4eabbe",
   "metadata": {},
   "outputs": [],
   "source": []
  },
  {
   "cell_type": "code",
   "execution_count": 17,
   "id": "46e050d3-1a84-4ca0-9c3b-5d3253cfb3a3",
   "metadata": {},
   "outputs": [
    {
     "name": "stdout",
     "output_type": "stream",
     "text": [
      "\n",
      "I have a Cat\n",
      "my Cat's name is Bruno\n"
     ]
    }
   ],
   "source": [
    "describe_pet('Bruno','Cat')"
   ]
  },
  {
   "cell_type": "code",
   "execution_count": null,
   "id": "6d2d3916-1c41-4ece-87cc-aef000f3969b",
   "metadata": {},
   "outputs": [],
   "source": [
    "returning a simple value : "
   ]
  },
  {
   "cell_type": "code",
   "execution_count": 19,
   "id": "76de7b43-c198-4792-bb09-f6f0cb935671",
   "metadata": {},
   "outputs": [],
   "source": [
    "#req: take a firstname and lastname and return it with a neatly formatted name..."
   ]
  },
  {
   "cell_type": "code",
   "execution_count": 20,
   "id": "adca4aeb-5c64-4181-bc81-5517c7df2dd1",
   "metadata": {},
   "outputs": [],
   "source": [
    "def get_formatted_name(first_name,last_name):\n",
    "    \"\"\"return a fullname, neatly formatted\"\"\"\n",
    "    full_name = f\"{first_name} {last_name}\"\n",
    "    return full_name.title()"
   ]
  },
  {
   "cell_type": "code",
   "execution_count": 21,
   "id": "c44b4adf-1a92-4218-810a-5d0b38445002",
   "metadata": {},
   "outputs": [
    {
     "name": "stdout",
     "output_type": "stream",
     "text": [
      "Sai Kiran\n"
     ]
    }
   ],
   "source": [
    "person = get_formatted_name('Sai','Kiran')\n",
    "print(person)"
   ]
  },
  {
   "cell_type": "code",
   "execution_count": 23,
   "id": "6e765d3b-ab68-4694-bcd2-14af816bc385",
   "metadata": {},
   "outputs": [],
   "source": [
    "#passing arbitary no of arguments:"
   ]
  },
  {
   "cell_type": "code",
   "execution_count": null,
   "id": "6cfce884-983a-4325-84d8-b1f2c14e2ced",
   "metadata": {},
   "outputs": [],
   "source": []
  },
  {
   "cell_type": "code",
   "execution_count": 24,
   "id": "6cad6d3d-f39e-48c3-941e-5bea8881552a",
   "metadata": {},
   "outputs": [],
   "source": [
    "def make_pizza(toppings):\n",
    "    \"\"\"print the list of toppings tht has been requested\"\"\"\n",
    "    print(toppings)"
   ]
  },
  {
   "cell_type": "code",
   "execution_count": 25,
   "id": "3c45c719-f6c0-4d09-baf7-01a05f93ca74",
   "metadata": {},
   "outputs": [
    {
     "name": "stdout",
     "output_type": "stream",
     "text": [
      "Olives\n"
     ]
    }
   ],
   "source": [
    "make_pizza('Olives')"
   ]
  },
  {
   "cell_type": "code",
   "execution_count": 26,
   "id": "890a15c2-a229-4bc1-9de6-c7c614b7093b",
   "metadata": {},
   "outputs": [
    {
     "ename": "TypeError",
     "evalue": "make_pizza() takes 1 positional argument but 2 were given",
     "output_type": "error",
     "traceback": [
      "\u001b[1;31m---------------------------------------------------------------------------\u001b[0m",
      "\u001b[1;31mTypeError\u001b[0m                                 Traceback (most recent call last)",
      "Cell \u001b[1;32mIn[26], line 1\u001b[0m\n\u001b[1;32m----> 1\u001b[0m make_pizza(\u001b[38;5;124m'\u001b[39m\u001b[38;5;124mOlives\u001b[39m\u001b[38;5;124m'\u001b[39m,\u001b[38;5;124m'\u001b[39m\u001b[38;5;124mCorns\u001b[39m\u001b[38;5;124m'\u001b[39m)\n",
      "\u001b[1;31mTypeError\u001b[0m: make_pizza() takes 1 positional argument but 2 were given"
     ]
    }
   ],
   "source": [
    "make_pizza('Olives','Corns')"
   ]
  },
  {
   "cell_type": "code",
   "execution_count": 27,
   "id": "6ae56506-a112-46d2-8813-4d54733745ac",
   "metadata": {},
   "outputs": [],
   "source": [
    "def make_pizza(*toppings):\n",
    "    \"\"\"print the list of toppings tht has been requested\"\"\"\n",
    "    print(toppings)"
   ]
  },
  {
   "cell_type": "code",
   "execution_count": 28,
   "id": "9f7aebc1-37a3-41ac-a7ad-c15f77b28f88",
   "metadata": {},
   "outputs": [
    {
     "name": "stdout",
     "output_type": "stream",
     "text": [
      "('Olives', 'Corns')\n"
     ]
    }
   ],
   "source": [
    "make_pizza('Olives','Corns')"
   ]
  },
  {
   "cell_type": "code",
   "execution_count": 29,
   "id": "59a5d307-d2ef-44e7-bf95-3875f6fc45fe",
   "metadata": {},
   "outputs": [
    {
     "name": "stdout",
     "output_type": "stream",
     "text": [
      "('Olives', 'Corns', 'Onions')\n"
     ]
    }
   ],
   "source": [
    "make_pizza('Olives','Corns','Onions')"
   ]
  },
  {
   "cell_type": "code",
   "execution_count": 30,
   "id": "6ec71ac5-0ec8-4c00-85b5-0d2efb81d512",
   "metadata": {},
   "outputs": [],
   "source": [
    "def make_pizza(*toppings):\n",
    "    \"\"\"Summarize the pizza tht i want to make\"\"\"\n",
    "    print(\"\\nMaking the pizza with the below toppings\")\n",
    "    for a in toppings:\n",
    "        print(f\"-{a}\")"
   ]
  },
  {
   "cell_type": "code",
   "execution_count": 32,
   "id": "b4fc57d0-1ce9-4dbd-845f-91b469960bc6",
   "metadata": {},
   "outputs": [
    {
     "name": "stdout",
     "output_type": "stream",
     "text": [
      "\n",
      "Making the pizza with the below toppings\n",
      "-Olives\n",
      "-Corns\n",
      "-Onions\n"
     ]
    }
   ],
   "source": [
    "make_pizza('Olives','Corns','Onions')"
   ]
  },
  {
   "cell_type": "code",
   "execution_count": 33,
   "id": "763ef99c-f472-4ccb-aaf7-be030fa2fcab",
   "metadata": {},
   "outputs": [],
   "source": [
    "def make_pizza(size,*toppings):\n",
    "    \"\"\"Summarize the pizza tht i want to make\"\"\"\n",
    "    print(f\"\\nMaking a {size} inch pizza with the below toppings\")\n",
    "    for a in toppings:\n",
    "        print(f\"-{a}\")"
   ]
  },
  {
   "cell_type": "code",
   "execution_count": 34,
   "id": "cc57e5cf-7110-49aa-bb01-fe494e55414a",
   "metadata": {},
   "outputs": [
    {
     "name": "stdout",
     "output_type": "stream",
     "text": [
      "\n",
      "Making a 12 inch pizza with the below toppings\n",
      "-Olives\n",
      "-Corns\n"
     ]
    }
   ],
   "source": [
    "make_pizza(12,'Olives','Corns')"
   ]
  },
  {
   "cell_type": "code",
   "execution_count": null,
   "id": "7a9757a8-0e4c-49a4-8dcd-c0d979a77e51",
   "metadata": {},
   "outputs": [],
   "source": []
  }
 ],
 "metadata": {
  "kernelspec": {
   "display_name": "Python 3 (ipykernel)",
   "language": "python",
   "name": "python3"
  },
  "language_info": {
   "codemirror_mode": {
    "name": "ipython",
    "version": 3
   },
   "file_extension": ".py",
   "mimetype": "text/x-python",
   "name": "python",
   "nbconvert_exporter": "python",
   "pygments_lexer": "ipython3",
   "version": "3.13.5"
  }
 },
 "nbformat": 4,
 "nbformat_minor": 5
}
